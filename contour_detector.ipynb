{
 "cells": [
  {
   "cell_type": "code",
   "execution_count": 3,
   "metadata": {},
   "outputs": [],
   "source": [
    "import cv2 as cv\n",
    "import numpy as np\n",
    "from matplotlib import pyplot as plt"
   ]
  },
  {
   "cell_type": "markdown",
   "metadata": {},
   "source": [
    "## Helper Functions"
   ]
  },
  {
   "cell_type": "code",
   "execution_count": 274,
   "metadata": {},
   "outputs": [],
   "source": [
    "# Helper functions\n",
    "\n",
    "def cvplot(img):\n",
    "    plt.imshow(img, interpolation = 'bicubic')\n",
    "    plt.show()\n",
    "\n",
    "def find_contours(img):\n",
    "    \n",
    "    # input :image \n",
    "    # output : contours, number of contours\n",
    "    # image - 2D array \n",
    "    # contours - dictionary with keys representing different contours\n",
    "    # number of contours - int\n",
    "    regs ={}\n",
    "    sh= img.shape\n",
    "    for i in range(sh[0]):\n",
    "        s=0\n",
    "        f =0\n",
    "        ranges =[]\n",
    "        for j in range(sh[1]):\n",
    "\n",
    "            if img[i][j] ==0:\n",
    "                continue\n",
    "                \n",
    "            if img[i][j]==255:\n",
    "                if img[i][j-1]==0:\n",
    "                    s =j\n",
    "                elif img[i][j+1]==0:\n",
    "                    f=j\n",
    "\n",
    "            if s !=0 and f!=0:\n",
    "                ranges.append((s,f))\n",
    "                s=0\n",
    "                f=0\n",
    "\n",
    "        if len(ranges) !=0:       \n",
    "            n_reg =len(regs)\n",
    "\n",
    "            if n_reg ==0:\n",
    "                regs['reg{0}'.format(n_reg)]={}\n",
    "                regs['reg0'][i] =ranges[0]\n",
    "\n",
    "            elif n_reg !=0:\n",
    "                for it in ranges:\n",
    "                    f_r =0\n",
    "                    for r in regs:\n",
    "                        rx= max(regs[r].keys())\n",
    "                        if i-rx ==1 and len(set(range(regs[r][rx][0],regs[r][rx][1]+1)).intersection(range(it[0],it[1]+1)))!=0:\n",
    "                            f_r =1\n",
    "                            regs[r][i]= it\n",
    "                        else:\n",
    "                            continue\n",
    "                    if f_r ==0:\n",
    "                        regs['reg{0}'.format(n_reg)]={}\n",
    "                        regs['reg{0}'.format(n_reg)][i] =it\n",
    "        con={}\n",
    "    for reg in regs.keys():\n",
    "        for x in regs[reg].keys():\n",
    "            tu = regs[reg][x]\n",
    "            l_r = len(range(tu[0],tu[1]))\n",
    "            bb= list(zip([x]*l_r,range(tu[0],tu[1])))\n",
    "            l= '{0}'.format(reg)\n",
    "            if l in con.keys():\n",
    "                for it in bb:\n",
    "                    con[l].append(it)\n",
    "            else:\n",
    "                 con[l] =bb\n",
    "    return con,len(con)\n",
    "    \n",
    "def plot_contour(con,img,n):\n",
    "    m_img = np.zeros_like(img)\n",
    "    l = list(con.keys())\n",
    "    if n ==-1:\n",
    "        for key in l:\n",
    "            for i in con[key]:\n",
    "                m_img[i[0],i[1]] = 255\n",
    "            \n",
    "    else:       \n",
    "        key = l[n]\n",
    "        for i in con[key]:\n",
    "            m_img[i[0],i[1]] = 255\n",
    "        \n",
    "    return m_img\n",
    "\n",
    "def find_area(con):\n",
    "    area =[]\n",
    "    l = list(con.keys())\n",
    "    for key in l:\n",
    "        area.append(len(con[key]))\n",
    "    return area\n",
    "\n",
    "def find_intensity(con,img):\n",
    "    intensity =[]\n",
    "    l = list(con.keys())\n",
    "    for key in l:\n",
    "        inten =0\n",
    "        for i in con[key]:\n",
    "            inten +=img[i[0],i[1]]\n",
    "        intensity.append(inten)\n",
    "    return intensity\n",
    "\n",
    "def min_max(con,img):\n",
    "    mn =[]\n",
    "    mx =[]\n",
    "    l = list(con.keys())\n",
    "    for key in l:\n",
    "        ls =[]\n",
    "        for i in con[key]:\n",
    "            ls.append(img[i[0],i[1]])\n",
    "        mn.append(np.amin(ls))\n",
    "        mx.append(np.amax(ls))\n",
    "    return list(zip(mn,mx))\n",
    "\n",
    "def find_centroid(con,img):\n",
    "    centroid = []\n",
    "    pi = find_intensity(con,img)\n",
    "    l = list(con.keys())\n",
    "    for reg  in range(len(l)):\n",
    "        xs =0\n",
    "        ys =0\n",
    "        key = l[reg]\n",
    "        for i in con[key]:\n",
    "            p =img[i[0],i[1]]\n",
    "            xs+=i[0]*p\n",
    "            ys+=i[1]*p\n",
    "        cx =int(round(xs/pi[reg]))\n",
    "        cy =int(round(ys/pi[reg]))\n",
    "        centroid.append((cy,cx))\n",
    "    return centroid\n",
    "\n",
    "def hist_dict(con,img):\n",
    "    dcs =[]\n",
    "    l = list(con.keys())\n",
    "    for reg in range(len(l)):\n",
    "        dct =  dict(zip(range(0,256),np.zeros(256)))\n",
    "        key = l[reg]\n",
    "        for i in con[key]:\n",
    "            pxl =img[i[0],i[1]]\n",
    "            dct[pxl]+=1\n",
    "        dcs.append(dct)\n",
    "    return dcs\n",
    "    "
   ]
  },
  {
   "cell_type": "markdown",
   "metadata": {},
   "source": [
    "## Main"
   ]
  },
  {
   "cell_type": "markdown",
   "metadata": {},
   "source": [
    "Reading in and pre-processing the image.\n"
   ]
  },
  {
   "cell_type": "code",
   "execution_count": 250,
   "metadata": {},
   "outputs": [],
   "source": [
    "# Reading in and converting image to grayscale\n",
    "img = cv.imread('image.png')\n",
    "g_img = cv.cvtColor(img, cv.COLOR_BGR2GRAY)"
   ]
  },
  {
   "cell_type": "markdown",
   "metadata": {},
   "source": [
    "Extracting the backgound and non-background pixels and assigning 0 or 255 to binarize the image."
   ]
  },
  {
   "cell_type": "code",
   "execution_count": 251,
   "metadata": {},
   "outputs": [
    {
     "data": {
      "image/png": "[encoded data removed]",
      "text/plain": [
       "<matplotlib.figure.Figure at 0x2aec5fd3438>"
      ]
     },
     "metadata": {},
     "output_type": "display_data"
    }
   ],
   "source": [
    "bg_pts = np.where(g_img <=15)\n",
    "nbg_pts = np.where(g_img>15)\n",
    "\n",
    "m_img = np.zeros_like(g_img)\n",
    "m_img[bg_pts[0],bg_pts[1]] =0\n",
    "m_img[nbg_pts[0],nbg_pts[1]] =255\n",
    "\n",
    "cvplot(m_img)"
   ]
  },
  {
   "cell_type": "code",
   "execution_count": 252,
   "metadata": {},
   "outputs": [
    {
     "name": "stdout",
     "output_type": "stream",
     "text": [
      "Number of contours =  4\n"
     ]
    }
   ],
   "source": [
    "con,n = find_contours(m_img)\n",
    "print(\"Number of contours = \",n)"
   ]
  },
  {
   "cell_type": "code",
   "execution_count": 253,
   "metadata": {},
   "outputs": [
    {
     "data": {
      "image/png": "[encoded data removed]",
      "text/plain": [
       "<matplotlib.figure.Figure at 0x2aebc0633c8>"
      ]
     },
     "metadata": {},
     "output_type": "display_data"
    }
   ],
   "source": [
    "centroids = find_centroid(con,g_img)\n",
    "c1 =plot_contour(con,g_img,0)\n",
    "cvplot(c1)"
   ]
  },
  {
   "cell_type": "code",
   "execution_count": 254,
   "metadata": {},
   "outputs": [
    {
     "data": {
      "image/png": "[encoded data removed]",
      "text/plain": [
       "<matplotlib.figure.Figure at 0x2aec689e828>"
      ]
     },
     "metadata": {},
     "output_type": "display_data"
    }
   ],
   "source": [
    "c =plot_contour(con,g_img,-1)\n",
    "for i in range(n):    \n",
    "    cv.putText(c, str(i), tuple(centroids[i]), 1, 1, (0, 0, 0), 2, cv.LINE_AA)\n",
    "cvplot(c)"
   ]
  },
  {
   "cell_type": "markdown",
   "metadata": {},
   "source": [
    "The contour number differs from the cv2 function implementation."
   ]
  },
  {
   "cell_type": "code",
   "execution_count": 255,
   "metadata": {},
   "outputs": [
    {
     "name": "stdout",
     "output_type": "stream",
     "text": [
      "The number of pixels in each of the contours =  [9120, 3008, 11664, 6120]\n"
     ]
    }
   ],
   "source": [
    "print(\"The number of pixels in each of the contours = \",find_area(con))"
   ]
  },
  {
   "cell_type": "code",
   "execution_count": 256,
   "metadata": {},
   "outputs": [
    {
     "name": "stdout",
     "output_type": "stream",
     "text": [
      "Sum of pixel intensities in each of the contours =  [693120, 679808, 1621210, 387417]\n"
     ]
    }
   ],
   "source": [
    "print(\"Sum of pixel intensities in each of the contours = \",find_intensity(con,g_img))"
   ]
  },
  {
   "cell_type": "code",
   "execution_count": 257,
   "metadata": {},
   "outputs": [
    {
     "name": "stdout",
     "output_type": "stream",
     "text": [
      "The centroids of the contours =  [(65, 88), (225, 88), (71, 206), (236, 234)]\n"
     ]
    }
   ],
   "source": [
    "print(\"The centroids of the contours = \", find_centroid(con,g_img))"
   ]
  },
  {
   "cell_type": "markdown",
   "metadata": {},
   "source": [
    "Plotting centroids of the contours."
   ]
  },
  {
   "cell_type": "code",
   "execution_count": 258,
   "metadata": {},
   "outputs": [
    {
     "data": {
      "image/png": "[encoded data removed]",
      "text/plain": [
       "<matplotlib.figure.Figure at 0x2aec6932f60>"
      ]
     },
     "metadata": {},
     "output_type": "display_data"
    }
   ],
   "source": [
    "for i in range(n):\n",
    "    cv.circle(img, tuple(centroids[i]),2,(0,0,0), thickness=5, lineType=8, shift=0)\n",
    "cvplot(img)"
   ]
  },
  {
   "cell_type": "code",
   "execution_count": 261,
   "metadata": {},
   "outputs": [
    {
     "name": "stdout",
     "output_type": "stream",
     "text": [
      "The minimum and maximum intensities in each of the contours,respectively =  [(76, 76), (226, 226), (51, 252), (29, 148)]\n"
     ]
    }
   ],
   "source": [
    "print(\"The minimum and maximum intensities in each of the contours,respectively = \",min_max(con,g_img))"
   ]
  },
  {
   "cell_type": "markdown",
   "metadata": {},
   "source": [
    "List containing the dictionary with pixels vs. intensity calculated for each contour."
   ]
  },
  {
   "cell_type": "code",
   "execution_count": 275,
   "metadata": {},
   "outputs": [],
   "source": [
    "dcs = hist_dict(con,g_img)"
   ]
  },
  {
   "cell_type": "markdown",
   "metadata": {},
   "source": [
    "Plotting the number of pixels vs. intensity calculated using dictionaries"
   ]
  },
  {
   "cell_type": "code",
   "execution_count": 277,
   "metadata": {},
   "outputs": [
    {
     "data": {
      "image/png": "[encoded data removed]",
      "text/plain": [
       "<matplotlib.figure.Figure at 0x2aec74f2940>"
      ]
     },
     "metadata": {},
     "output_type": "display_data"
    }
   ],
   "source": [
    "ds =hist_dict(con,g_img)\n",
    "fig, axs = plt.subplots(2,int(n/2), figsize=(15, 10))\n",
    "axs = axs.ravel()\n",
    "\n",
    "for i in range(n):\n",
    "    d =dcs[i]\n",
    "    axs[i].bar(range(len(d)), d.values(), align='center')\n",
    "    axs[i].set_title(\"Barplot of contour \"+ str(i))\n",
    "    axs[i].set_xlabel(\"Pixel Intensity\")\n",
    "    axs[i].set_ylabel(\"Number of Pixels\")    \n",
    "plt.show()"
   ]
  },
  {
   "cell_type": "code",
   "execution_count": null,
   "metadata": {},
   "outputs": [],
   "source": []
  }
 ],
 "metadata": {
  "kernelspec": {
   "display_name": "Python 3",
   "language": "python",
   "name": "python3"
  },
  "language_info": {
   "codemirror_mode": {
    "name": "ipython",
    "version": 3
   },
   "file_extension": ".py",
   "mimetype": "text/x-python",
   "name": "python",
   "nbconvert_exporter": "python",
   "pygments_lexer": "ipython3",
   "version": "3.5.2"
  }
 },
 "nbformat": 4,
 "nbformat_minor": 2
}
